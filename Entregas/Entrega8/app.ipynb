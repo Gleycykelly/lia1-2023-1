{
  "cells": [
    {
      "cell_type": "markdown",
      "metadata": {
        "id": "view-in-github",
        "colab_type": "text"
      },
      "source": [
        "<a href=\"https://colab.research.google.com/github/Gleycykelly/lia1-2023-1/blob/main/app.ipynb\" target=\"_parent\"><img src=\"https://colab.research.google.com/assets/colab-badge.svg\" alt=\"Open In Colab\"/></a>"
      ]
    },
    {
      "cell_type": "markdown",
      "source": [
        "<hr style=\"height:10px\">\n",
        "\n",
        "<div class='container2'>\n",
        "\t<div style='padding: 0 7em 2em 12em;'>\n",
        "\t<h1>Laboratório de Inovação e Automação 1 (LIA 1)</h1>\n",
        "\t<div style=\"font-size:12pt;float:left;\"> 2023/1 | 46M34 | Sala 200 CAE</div><br><br>\n",
        "    <div style=\"font-size:12pt;float:left;\"><b>Projetos de Inteligência Artificial</b></div>\n",
        "\t</div>\n",
        "</div>\n",
        "\n",
        "\n",
        " <hr style=\"height:5px\">\n",
        "\n",
        "    \n",
        "<h2>Aula 14 - Aula 3 no FastAI</h2>\n",
        "\n",
        "Notebook desenvolvido por: Gleycykelly Syssy Indymayer Carnot Amaro\n",
        "\n",
        " <hr style=\"height:2px\">\n"
      ],
      "metadata": {
        "id": "LmO86e-EVcnx"
      },
      "id": "LmO86e-EVcnx"
    },
    {
      "cell_type": "markdown",
      "id": "7195af18",
      "metadata": {
        "id": "7195af18"
      },
      "source": [
        "## Gradio Pets"
      ]
    },
    {
      "cell_type": "code",
      "source": [
        "!pip install -q gradio\n",
        "!pip install -q timm"
      ],
      "metadata": {
        "id": "WwUkAJgzzhy2",
        "colab": {
          "base_uri": "https://localhost:8080/"
        },
        "outputId": "67710e8d-64c1-4319-f52f-8f13a1b3d08a"
      },
      "id": "WwUkAJgzzhy2",
      "execution_count": 1,
      "outputs": [
        {
          "output_type": "stream",
          "name": "stdout",
          "text": [
            "\u001b[2K     \u001b[90m━━━━━━━━━━━━━━━━━━━━━━━━━━━━━━━━━━━━━━━━\u001b[0m \u001b[32m19.8/19.8 MB\u001b[0m \u001b[31m78.8 MB/s\u001b[0m eta \u001b[36m0:00:00\u001b[0m\n",
            "\u001b[2K     \u001b[90m━━━━━━━━━━━━━━━━━━━━━━━━━━━━━━━━━━━━━━━━\u001b[0m \u001b[32m65.7/65.7 kB\u001b[0m \u001b[31m7.2 MB/s\u001b[0m eta \u001b[36m0:00:00\u001b[0m\n",
            "\u001b[?25h  Preparing metadata (setup.py) ... \u001b[?25l\u001b[?25hdone\n",
            "\u001b[2K     \u001b[90m━━━━━━━━━━━━━━━━━━━━━━━━━━━━━━━━━━━━━━\u001b[0m \u001b[32m289.0/289.0 kB\u001b[0m \u001b[31m25.9 MB/s\u001b[0m eta \u001b[36m0:00:00\u001b[0m\n",
            "\u001b[2K     \u001b[90m━━━━━━━━━━━━━━━━━━━━━━━━━━━━━━━━━━━━━━━━\u001b[0m \u001b[32m75.4/75.4 kB\u001b[0m \u001b[31m9.5 MB/s\u001b[0m eta \u001b[36m0:00:00\u001b[0m\n",
            "\u001b[2K     \u001b[90m━━━━━━━━━━━━━━━━━━━━━━━━━━━━━━━━━━━━━━\u001b[0m \u001b[32m268.8/268.8 kB\u001b[0m \u001b[31m25.1 MB/s\u001b[0m eta \u001b[36m0:00:00\u001b[0m\n",
            "\u001b[2K     \u001b[90m━━━━━━━━━━━━━━━━━━━━━━━━━━━━━━━━━━━━━━━━\u001b[0m \u001b[32m50.5/50.5 kB\u001b[0m \u001b[31m5.4 MB/s\u001b[0m eta \u001b[36m0:00:00\u001b[0m\n",
            "\u001b[2K     \u001b[90m━━━━━━━━━━━━━━━━━━━━━━━━━━━━━━━━━━━━━━\u001b[0m \u001b[32m138.7/138.7 kB\u001b[0m \u001b[31m11.8 MB/s\u001b[0m eta \u001b[36m0:00:00\u001b[0m\n",
            "\u001b[2K     \u001b[90m━━━━━━━━━━━━━━━━━━━━━━━━━━━━━━━━━━━━━━━━\u001b[0m \u001b[32m45.7/45.7 kB\u001b[0m \u001b[31m5.0 MB/s\u001b[0m eta \u001b[36m0:00:00\u001b[0m\n",
            "\u001b[2K     \u001b[90m━━━━━━━━━━━━━━━━━━━━━━━━━━━━━━━━━━━━━━━━\u001b[0m \u001b[32m59.5/59.5 kB\u001b[0m \u001b[31m7.2 MB/s\u001b[0m eta \u001b[36m0:00:00\u001b[0m\n",
            "\u001b[2K     \u001b[90m━━━━━━━━━━━━━━━━━━━━━━━━━━━━━━━━━━━━━━\u001b[0m \u001b[32m129.9/129.9 kB\u001b[0m \u001b[31m16.6 MB/s\u001b[0m eta \u001b[36m0:00:00\u001b[0m\n",
            "\u001b[2K     \u001b[90m━━━━━━━━━━━━━━━━━━━━━━━━━━━━━━━━━━━━━━━━\u001b[0m \u001b[32m50.4/50.4 kB\u001b[0m \u001b[31m4.6 MB/s\u001b[0m eta \u001b[36m0:00:00\u001b[0m\n",
            "\u001b[2K     \u001b[90m━━━━━━━━━━━━━━━━━━━━━━━━━━━━━━━━━━━━━━━━\u001b[0m \u001b[32m46.5/46.5 kB\u001b[0m \u001b[31m4.9 MB/s\u001b[0m eta \u001b[36m0:00:00\u001b[0m\n",
            "\u001b[2K     \u001b[90m━━━━━━━━━━━━━━━━━━━━━━━━━━━━━━━━━━━━━━━━\u001b[0m \u001b[32m43.7/43.7 kB\u001b[0m \u001b[31m4.9 MB/s\u001b[0m eta \u001b[36m0:00:00\u001b[0m\n",
            "\u001b[2K     \u001b[90m━━━━━━━━━━━━━━━━━━━━━━━━━━━━━━━━━━━━━━━━\u001b[0m \u001b[32m41.0/41.0 kB\u001b[0m \u001b[31m5.1 MB/s\u001b[0m eta \u001b[36m0:00:00\u001b[0m\n",
            "\u001b[2K     \u001b[90m━━━━━━━━━━━━━━━━━━━━━━━━━━━━━━━━━━━━━━━━\u001b[0m \u001b[32m41.0/41.0 kB\u001b[0m \u001b[31m4.7 MB/s\u001b[0m eta \u001b[36m0:00:00\u001b[0m\n",
            "\u001b[2K     \u001b[90m━━━━━━━━━━━━━━━━━━━━━━━━━━━━━━━━━━━━━━━━\u001b[0m \u001b[32m87.5/87.5 kB\u001b[0m \u001b[31m10.5 MB/s\u001b[0m eta \u001b[36m0:00:00\u001b[0m\n",
            "\u001b[2K     \u001b[90m━━━━━━━━━━━━━━━━━━━━━━━━━━━━━━━━━━━━━━━━\u001b[0m \u001b[32m84.5/84.5 kB\u001b[0m \u001b[31m10.9 MB/s\u001b[0m eta \u001b[36m0:00:00\u001b[0m\n",
            "\u001b[2K     \u001b[90m━━━━━━━━━━━━━━━━━━━━━━━━━━━━━━━━━━━━━━━━\u001b[0m \u001b[32m58.3/58.3 kB\u001b[0m \u001b[31m7.0 MB/s\u001b[0m eta \u001b[36m0:00:00\u001b[0m\n",
            "\u001b[2K     \u001b[90m━━━━━━━━━━━━━━━━━━━━━━━━━━━━━━━━━━━━━━━━\u001b[0m \u001b[32m67.0/67.0 kB\u001b[0m \u001b[31m7.0 MB/s\u001b[0m eta \u001b[36m0:00:00\u001b[0m\n",
            "\u001b[2K     \u001b[90m━━━━━━━━━━━━━━━━━━━━━━━━━━━━━━━━━━━━━━━━\u001b[0m \u001b[32m74.5/74.5 kB\u001b[0m \u001b[31m8.8 MB/s\u001b[0m eta \u001b[36m0:00:00\u001b[0m\n",
            "\u001b[?25h  Building wheel for ffmpy (setup.py) ... \u001b[?25l\u001b[?25hdone\n",
            "\u001b[2K     \u001b[90m━━━━━━━━━━━━━━━━━━━━━━━━━━━━━━━━━━━━━━━━\u001b[0m \u001b[32m2.2/2.2 MB\u001b[0m \u001b[31m9.3 MB/s\u001b[0m eta \u001b[36m0:00:00\u001b[0m\n",
            "\u001b[2K     \u001b[90m━━━━━━━━━━━━━━━━━━━━━━━━━━━━━━━━━━━━━━━━\u001b[0m \u001b[32m1.3/1.3 MB\u001b[0m \u001b[31m17.5 MB/s\u001b[0m eta \u001b[36m0:00:00\u001b[0m\n",
            "\u001b[?25h"
          ]
        }
      ]
    },
    {
      "cell_type": "code",
      "execution_count": 2,
      "id": "44eb0ad3",
      "metadata": {
        "id": "44eb0ad3"
      },
      "outputs": [],
      "source": [
        "\n",
        "from fastai.vision.all import *\n",
        "import gradio as gr\n",
        "import timm"
      ]
    },
    {
      "cell_type": "code",
      "execution_count": 3,
      "id": "3295ef11",
      "metadata": {
        "id": "3295ef11",
        "colab": {
          "base_uri": "https://localhost:8080/",
          "height": 166
        },
        "outputId": "b2088145-f790-4a7b-b1ce-976e3249ec38"
      },
      "outputs": [
        {
          "output_type": "execute_result",
          "data": {
            "text/plain": [
              "PILImage mode=RGB size=224x149"
            ],
            "image/png": "[encoded data removed]"
          },
          "metadata": {},
          "execution_count": 3
        }
      ],
      "source": [
        "im = PILImage.create('basset.jpg')\n",
        "im.thumbnail((224,224))\n",
        "im"
      ]
    },
    {
      "cell_type": "code",
      "execution_count": 4,
      "id": "ae2bc6ac",
      "metadata": {
        "id": "ae2bc6ac"
      },
      "outputs": [],
      "source": [
        "\n",
        "learn = load_learner('model.pkl')"
      ]
    },
    {
      "cell_type": "code",
      "execution_count": 5,
      "id": "6e0bf9da",
      "metadata": {
        "id": "6e0bf9da",
        "colab": {
          "base_uri": "https://localhost:8080/",
          "height": 173
        },
        "outputId": "165399f0-3897-4f5e-8010-d8134b74142f"
      },
      "outputs": [
        {
          "output_type": "display_data",
          "data": {
            "text/plain": [
              "<IPython.core.display.HTML object>"
            ],
            "text/html": [
              "\n",
              "<style>\n",
              "    /* Turns off some styling */\n",
              "    progress {\n",
              "        /* gets rid of default border in Firefox and Opera. */\n",
              "        border: none;\n",
              "        /* Needs to be in here for Safari polyfill so background images work as expected. */\n",
              "        background-size: auto;\n",
              "    }\n",
              "    progress:not([value]), progress:not([value])::-webkit-progress-bar {\n",
              "        background: repeating-linear-gradient(45deg, #7e7e7e, #7e7e7e 10px, #5c5c5c 10px, #5c5c5c 20px);\n",
              "    }\n",
              "    .progress-bar-interrupted, .progress-bar-interrupted::-webkit-progress-bar {\n",
              "        background: #F44336;\n",
              "    }\n",
              "</style>\n"
            ]
          },
          "metadata": {}
        },
        {
          "output_type": "display_data",
          "data": {
            "text/plain": [
              "<IPython.core.display.HTML object>"
            ],
            "text/html": []
          },
          "metadata": {}
        },
        {
          "output_type": "execute_result",
          "data": {
            "text/plain": [
              "('miniature_pinscher',\n",
              " tensor(26),\n",
              " tensor([2.6137e-05, 3.7243e-05, 3.0120e-07, 1.3676e-05, 3.6172e-06, 6.0280e-05,\n",
              "         9.6411e-07, 2.9028e-06, 1.1000e-07, 1.0398e-04, 2.7754e-05, 6.5708e-05,\n",
              "         1.4122e-05, 3.6001e-02, 2.1459e-03, 5.1320e-04, 2.5887e-06, 1.7595e-04,\n",
              "         2.2288e-05, 1.2758e-04, 3.9686e-03, 4.2247e-04, 4.8219e-05, 1.7150e-05,\n",
              "         3.5660e-05, 4.0719e-06, 9.5585e-01, 1.7889e-05, 2.0526e-05, 1.9058e-04,\n",
              "         4.4191e-06, 7.4490e-06, 2.6857e-06, 1.3411e-06, 1.8218e-05, 2.5822e-05,\n",
              "         2.0978e-05]))"
            ]
          },
          "metadata": {},
          "execution_count": 5
        }
      ],
      "source": [
        "learn.predict(im)"
      ]
    },
    {
      "cell_type": "code",
      "execution_count": 6,
      "id": "0419ed3a",
      "metadata": {
        "id": "0419ed3a"
      },
      "outputs": [],
      "source": [
        "categories = learn.dls.vocab\n",
        "\n",
        "def classify_image(img):\n",
        "    pred,idx,probs = learn.predict(img)\n",
        "    return dict(zip(categories, map(float,probs)))"
      ]
    },
    {
      "cell_type": "code",
      "execution_count": 7,
      "id": "762dec00",
      "metadata": {
        "id": "762dec00",
        "colab": {
          "base_uri": "https://localhost:8080/",
          "height": 659
        },
        "outputId": "3fa9bcdd-24a8-45aa-96c9-8720ec310bea"
      },
      "outputs": [
        {
          "output_type": "display_data",
          "data": {
            "text/plain": [
              "<IPython.core.display.HTML object>"
            ],
            "text/html": [
              "\n",
              "<style>\n",
              "    /* Turns off some styling */\n",
              "    progress {\n",
              "        /* gets rid of default border in Firefox and Opera. */\n",
              "        border: none;\n",
              "        /* Needs to be in here for Safari polyfill so background images work as expected. */\n",
              "        background-size: auto;\n",
              "    }\n",
              "    progress:not([value]), progress:not([value])::-webkit-progress-bar {\n",
              "        background: repeating-linear-gradient(45deg, #7e7e7e, #7e7e7e 10px, #5c5c5c 10px, #5c5c5c 20px);\n",
              "    }\n",
              "    .progress-bar-interrupted, .progress-bar-interrupted::-webkit-progress-bar {\n",
              "        background: #F44336;\n",
              "    }\n",
              "</style>\n"
            ]
          },
          "metadata": {}
        },
        {
          "output_type": "display_data",
          "data": {
            "text/plain": [
              "<IPython.core.display.HTML object>"
            ],
            "text/html": []
          },
          "metadata": {}
        },
        {
          "output_type": "execute_result",
          "data": {
            "text/plain": [
              "{'Abyssinian': 2.6137033273698762e-05,\n",
              " 'Bengal': 3.724310590769164e-05,\n",
              " 'Birman': 3.011950866493862e-07,\n",
              " 'Bombay': 1.3676090929948259e-05,\n",
              " 'British_Shorthair': 3.6172050386085175e-06,\n",
              " 'Egyptian_Mau': 6.028019924997352e-05,\n",
              " 'Maine_Coon': 9.641056522013969e-07,\n",
              " 'Persian': 2.9028437893430237e-06,\n",
              " 'Ragdoll': 1.1000349786627339e-07,\n",
              " 'Russian_Blue': 0.00010398334416095167,\n",
              " 'Siamese': 2.7754407710745e-05,\n",
              " 'Sphynx': 6.570812547579408e-05,\n",
              " 'american_bulldog': 1.4122049833531491e-05,\n",
              " 'american_pit_bull_terrier': 0.036001477390527725,\n",
              " 'basset_hound': 0.002145885257050395,\n",
              " 'beagle': 0.0005131971556693316,\n",
              " 'boxer': 2.5886845378408907e-06,\n",
              " 'chihuahua': 0.00017595292592886835,\n",
              " 'english_cocker_spaniel': 2.2288300897344016e-05,\n",
              " 'english_setter': 0.00012757861986756325,\n",
              " 'german_shorthaired': 0.00396862393245101,\n",
              " 'great_pyrenees': 0.000422472512582317,\n",
              " 'havanese': 4.821877882932313e-05,\n",
              " 'japanese_chin': 1.7149981431430206e-05,\n",
              " 'keeshond': 3.5660414141602814e-05,\n",
              " 'leonberger': 4.071857802045997e-06,\n",
              " 'miniature_pinscher': 0.955847978591919,\n",
              " 'newfoundland': 1.7888585716718808e-05,\n",
              " 'pomeranian': 2.0525938452919945e-05,\n",
              " 'pug': 0.00019058478937949985,\n",
              " 'saint_bernard': 4.4190660446474794e-06,\n",
              " 'samoyed': 7.448968517564936e-06,\n",
              " 'scottish_terrier': 2.6856519070861395e-06,\n",
              " 'shiba_inu': 1.3410899555310607e-06,\n",
              " 'staffordshire_bull_terrier': 1.8217691831523553e-05,\n",
              " 'wheaten_terrier': 2.5821864255703986e-05,\n",
              " 'yorkshire_terrier': 2.097815740853548e-05}"
            ]
          },
          "metadata": {},
          "execution_count": 7
        }
      ],
      "source": [
        "classify_image(im)"
      ]
    },
    {
      "cell_type": "code",
      "execution_count": 8,
      "id": "930cf172",
      "metadata": {
        "id": "930cf172",
        "colab": {
          "base_uri": "https://localhost:8080/"
        },
        "outputId": "5ae81e01-8181-42c9-ecfd-adc27b6a2de0"
      },
      "outputs": [
        {
          "output_type": "stream",
          "name": "stderr",
          "text": [
            "<ipython-input-8-da0e9e0688dd>:1: GradioDeprecationWarning: Usage of gradio.inputs is deprecated, and will not be supported in the future, please import your component from gradio.components\n",
            "  image = gr.inputs.Image(shape=(192, 192))\n",
            "<ipython-input-8-da0e9e0688dd>:1: GradioDeprecationWarning: `optional` parameter is deprecated, and it has no effect\n",
            "  image = gr.inputs.Image(shape=(192, 192))\n",
            "<ipython-input-8-da0e9e0688dd>:2: GradioDeprecationWarning: Usage of gradio.outputs is deprecated, and will not be supported in the future, please import your components from gradio.components\n",
            "  label = gr.outputs.Label()\n",
            "<ipython-input-8-da0e9e0688dd>:2: GradioUnusedKwargWarning: You have unused kwarg parameters in Label, please remove them: {'type': 'auto'}\n",
            "  label = gr.outputs.Label()\n"
          ]
        }
      ],
      "source": [
        "image = gr.inputs.Image(shape=(192, 192))\n",
        "label = gr.outputs.Label()\n",
        "examples = ['basset.jpg']"
      ]
    },
    {
      "cell_type": "code",
      "execution_count": 9,
      "id": "4f463e23",
      "metadata": {
        "id": "4f463e23",
        "colab": {
          "base_uri": "https://localhost:8080/"
        },
        "outputId": "aeec5a75-1920-4c1d-c05a-97293f34726a"
      },
      "outputs": [
        {
          "output_type": "stream",
          "name": "stdout",
          "text": [
            "Colab notebook detected. To show errors in colab notebook, set debug=True in launch()\n",
            "Note: opening Chrome Inspector may crash demo inside Colab notebooks.\n",
            "\n",
            "To create a public link, set `share=True` in `launch()`.\n"
          ]
        },
        {
          "output_type": "execute_result",
          "data": {
            "text/plain": []
          },
          "metadata": {},
          "execution_count": 9
        }
      ],
      "source": [
        "intf = gr.Interface(fn=classify_image, inputs=image, outputs=label, examples=examples)\n",
        "intf.launch(inline=False)"
      ]
    },
    {
      "cell_type": "code",
      "execution_count": 10,
      "id": "82774c08",
      "metadata": {
        "scrolled": true,
        "tags": [],
        "id": "82774c08",
        "colab": {
          "base_uri": "https://localhost:8080/"
        },
        "outputId": "329ab68d-aefb-4ce2-c83e-ed79a19e54fb"
      },
      "outputs": [
        {
          "output_type": "execute_result",
          "data": {
            "text/plain": [
              "Sequential(\n",
              "  (0): TimmBody(\n",
              "    (model): ConvNeXt(\n",
              "      (stem): Sequential(\n",
              "        (0): Conv2d(3, 96, kernel_size=(4, 4), stride=(4, 4))\n",
              "        (1): LayerNorm2d((96,), eps=1e-06, elementwise_affine=True)\n",
              "      )\n",
              "      (stages): Sequential(\n",
              "        (0): ConvNeXtStage(\n",
              "          (downsample): Identity()\n",
              "          (blocks): Sequential(\n",
              "            (0): ConvNeXtBlock(\n",
              "              (conv_dw): Conv2d(96, 96, kernel_size=(7, 7), stride=(1, 1), padding=(3, 3), groups=96)\n",
              "              (norm): LayerNorm((96,), eps=1e-06, elementwise_affine=True)\n",
              "              (mlp): Mlp(\n",
              "                (fc1): Linear(in_features=96, out_features=384, bias=True)\n",
              "                (act): GELU()\n",
              "                (drop1): Dropout(p=0.0, inplace=False)\n",
              "                (norm): Identity()\n",
              "                (fc2): Linear(in_features=384, out_features=96, bias=True)\n",
              "                (drop2): Dropout(p=0.0, inplace=False)\n",
              "              )\n",
              "              (shortcut): Identity()\n",
              "              (drop_path): Identity()\n",
              "            )\n",
              "            (1): ConvNeXtBlock(\n",
              "              (conv_dw): Conv2d(96, 96, kernel_size=(7, 7), stride=(1, 1), padding=(3, 3), groups=96)\n",
              "              (norm): LayerNorm((96,), eps=1e-06, elementwise_affine=True)\n",
              "              (mlp): Mlp(\n",
              "                (fc1): Linear(in_features=96, out_features=384, bias=True)\n",
              "                (act): GELU()\n",
              "                (drop1): Dropout(p=0.0, inplace=False)\n",
              "                (norm): Identity()\n",
              "                (fc2): Linear(in_features=384, out_features=96, bias=True)\n",
              "                (drop2): Dropout(p=0.0, inplace=False)\n",
              "              )\n",
              "              (shortcut): Identity()\n",
              "              (drop_path): Identity()\n",
              "            )\n",
              "            (2): ConvNeXtBlock(\n",
              "              (conv_dw): Conv2d(96, 96, kernel_size=(7, 7), stride=(1, 1), padding=(3, 3), groups=96)\n",
              "              (norm): LayerNorm((96,), eps=1e-06, elementwise_affine=True)\n",
              "              (mlp): Mlp(\n",
              "                (fc1): Linear(in_features=96, out_features=384, bias=True)\n",
              "                (act): GELU()\n",
              "                (drop1): Dropout(p=0.0, inplace=False)\n",
              "                (norm): Identity()\n",
              "                (fc2): Linear(in_features=384, out_features=96, bias=True)\n",
              "                (drop2): Dropout(p=0.0, inplace=False)\n",
              "              )\n",
              "              (shortcut): Identity()\n",
              "              (drop_path): Identity()\n",
              "            )\n",
              "          )\n",
              "        )\n",
              "        (1): ConvNeXtStage(\n",
              "          (downsample): Sequential(\n",
              "            (0): LayerNorm2d((96,), eps=1e-06, elementwise_affine=True)\n",
              "            (1): Conv2d(96, 192, kernel_size=(2, 2), stride=(2, 2))\n",
              "          )\n",
              "          (blocks): Sequential(\n",
              "            (0): ConvNeXtBlock(\n",
              "              (conv_dw): Conv2d(192, 192, kernel_size=(7, 7), stride=(1, 1), padding=(3, 3), groups=192)\n",
              "              (norm): LayerNorm((192,), eps=1e-06, elementwise_affine=True)\n",
              "              (mlp): Mlp(\n",
              "                (fc1): Linear(in_features=192, out_features=768, bias=True)\n",
              "                (act): GELU()\n",
              "                (drop1): Dropout(p=0.0, inplace=False)\n",
              "                (norm): Identity()\n",
              "                (fc2): Linear(in_features=768, out_features=192, bias=True)\n",
              "                (drop2): Dropout(p=0.0, inplace=False)\n",
              "              )\n",
              "              (shortcut): Identity()\n",
              "              (drop_path): Identity()\n",
              "            )\n",
              "            (1): ConvNeXtBlock(\n",
              "              (conv_dw): Conv2d(192, 192, kernel_size=(7, 7), stride=(1, 1), padding=(3, 3), groups=192)\n",
              "              (norm): LayerNorm((192,), eps=1e-06, elementwise_affine=True)\n",
              "              (mlp): Mlp(\n",
              "                (fc1): Linear(in_features=192, out_features=768, bias=True)\n",
              "                (act): GELU()\n",
              "                (drop1): Dropout(p=0.0, inplace=False)\n",
              "                (norm): Identity()\n",
              "                (fc2): Linear(in_features=768, out_features=192, bias=True)\n",
              "                (drop2): Dropout(p=0.0, inplace=False)\n",
              "              )\n",
              "              (shortcut): Identity()\n",
              "              (drop_path): Identity()\n",
              "            )\n",
              "            (2): ConvNeXtBlock(\n",
              "              (conv_dw): Conv2d(192, 192, kernel_size=(7, 7), stride=(1, 1), padding=(3, 3), groups=192)\n",
              "              (norm): LayerNorm((192,), eps=1e-06, elementwise_affine=True)\n",
              "              (mlp): Mlp(\n",
              "                (fc1): Linear(in_features=192, out_features=768, bias=True)\n",
              "                (act): GELU()\n",
              "                (drop1): Dropout(p=0.0, inplace=False)\n",
              "                (norm): Identity()\n",
              "                (fc2): Linear(in_features=768, out_features=192, bias=True)\n",
              "                (drop2): Dropout(p=0.0, inplace=False)\n",
              "              )\n",
              "              (shortcut): Identity()\n",
              "              (drop_path): Identity()\n",
              "            )\n",
              "          )\n",
              "        )\n",
              "        (2): ConvNeXtStage(\n",
              "          (downsample): Sequential(\n",
              "            (0): LayerNorm2d((192,), eps=1e-06, elementwise_affine=True)\n",
              "            (1): Conv2d(192, 384, kernel_size=(2, 2), stride=(2, 2))\n",
              "          )\n",
              "          (blocks): Sequential(\n",
              "            (0): ConvNeXtBlock(\n",
              "              (conv_dw): Conv2d(384, 384, kernel_size=(7, 7), stride=(1, 1), padding=(3, 3), groups=384)\n",
              "              (norm): LayerNorm((384,), eps=1e-06, elementwise_affine=True)\n",
              "              (mlp): Mlp(\n",
              "                (fc1): Linear(in_features=384, out_features=1536, bias=True)\n",
              "                (act): GELU()\n",
              "                (drop1): Dropout(p=0.0, inplace=False)\n",
              "                (norm): Identity()\n",
              "                (fc2): Linear(in_features=1536, out_features=384, bias=True)\n",
              "                (drop2): Dropout(p=0.0, inplace=False)\n",
              "              )\n",
              "              (shortcut): Identity()\n",
              "              (drop_path): Identity()\n",
              "            )\n",
              "            (1): ConvNeXtBlock(\n",
              "              (conv_dw): Conv2d(384, 384, kernel_size=(7, 7), stride=(1, 1), padding=(3, 3), groups=384)\n",
              "              (norm): LayerNorm((384,), eps=1e-06, elementwise_affine=True)\n",
              "              (mlp): Mlp(\n",
              "                (fc1): Linear(in_features=384, out_features=1536, bias=True)\n",
              "                (act): GELU()\n",
              "                (drop1): Dropout(p=0.0, inplace=False)\n",
              "                (norm): Identity()\n",
              "                (fc2): Linear(in_features=1536, out_features=384, bias=True)\n",
              "                (drop2): Dropout(p=0.0, inplace=False)\n",
              "              )\n",
              "              (shortcut): Identity()\n",
              "              (drop_path): Identity()\n",
              "            )\n",
              "            (2): ConvNeXtBlock(\n",
              "              (conv_dw): Conv2d(384, 384, kernel_size=(7, 7), stride=(1, 1), padding=(3, 3), groups=384)\n",
              "              (norm): LayerNorm((384,), eps=1e-06, elementwise_affine=True)\n",
              "              (mlp): Mlp(\n",
              "                (fc1): Linear(in_features=384, out_features=1536, bias=True)\n",
              "                (act): GELU()\n",
              "                (drop1): Dropout(p=0.0, inplace=False)\n",
              "                (norm): Identity()\n",
              "                (fc2): Linear(in_features=1536, out_features=384, bias=True)\n",
              "                (drop2): Dropout(p=0.0, inplace=False)\n",
              "              )\n",
              "              (shortcut): Identity()\n",
              "              (drop_path): Identity()\n",
              "            )\n",
              "            (3): ConvNeXtBlock(\n",
              "              (conv_dw): Conv2d(384, 384, kernel_size=(7, 7), stride=(1, 1), padding=(3, 3), groups=384)\n",
              "              (norm): LayerNorm((384,), eps=1e-06, elementwise_affine=True)\n",
              "              (mlp): Mlp(\n",
              "                (fc1): Linear(in_features=384, out_features=1536, bias=True)\n",
              "                (act): GELU()\n",
              "                (drop1): Dropout(p=0.0, inplace=False)\n",
              "                (norm): Identity()\n",
              "                (fc2): Linear(in_features=1536, out_features=384, bias=True)\n",
              "                (drop2): Dropout(p=0.0, inplace=False)\n",
              "              )\n",
              "              (shortcut): Identity()\n",
              "              (drop_path): Identity()\n",
              "            )\n",
              "            (4): ConvNeXtBlock(\n",
              "              (conv_dw): Conv2d(384, 384, kernel_size=(7, 7), stride=(1, 1), padding=(3, 3), groups=384)\n",
              "              (norm): LayerNorm((384,), eps=1e-06, elementwise_affine=True)\n",
              "              (mlp): Mlp(\n",
              "                (fc1): Linear(in_features=384, out_features=1536, bias=True)\n",
              "                (act): GELU()\n",
              "                (drop1): Dropout(p=0.0, inplace=False)\n",
              "                (norm): Identity()\n",
              "                (fc2): Linear(in_features=1536, out_features=384, bias=True)\n",
              "                (drop2): Dropout(p=0.0, inplace=False)\n",
              "              )\n",
              "              (shortcut): Identity()\n",
              "              (drop_path): Identity()\n",
              "            )\n",
              "            (5): ConvNeXtBlock(\n",
              "              (conv_dw): Conv2d(384, 384, kernel_size=(7, 7), stride=(1, 1), padding=(3, 3), groups=384)\n",
              "              (norm): LayerNorm((384,), eps=1e-06, elementwise_affine=True)\n",
              "              (mlp): Mlp(\n",
              "                (fc1): Linear(in_features=384, out_features=1536, bias=True)\n",
              "                (act): GELU()\n",
              "                (drop1): Dropout(p=0.0, inplace=False)\n",
              "                (norm): Identity()\n",
              "                (fc2): Linear(in_features=1536, out_features=384, bias=True)\n",
              "                (drop2): Dropout(p=0.0, inplace=False)\n",
              "              )\n",
              "              (shortcut): Identity()\n",
              "              (drop_path): Identity()\n",
              "            )\n",
              "            (6): ConvNeXtBlock(\n",
              "              (conv_dw): Conv2d(384, 384, kernel_size=(7, 7), stride=(1, 1), padding=(3, 3), groups=384)\n",
              "              (norm): LayerNorm((384,), eps=1e-06, elementwise_affine=True)\n",
              "              (mlp): Mlp(\n",
              "                (fc1): Linear(in_features=384, out_features=1536, bias=True)\n",
              "                (act): GELU()\n",
              "                (drop1): Dropout(p=0.0, inplace=False)\n",
              "                (norm): Identity()\n",
              "                (fc2): Linear(in_features=1536, out_features=384, bias=True)\n",
              "                (drop2): Dropout(p=0.0, inplace=False)\n",
              "              )\n",
              "              (shortcut): Identity()\n",
              "              (drop_path): Identity()\n",
              "            )\n",
              "            (7): ConvNeXtBlock(\n",
              "              (conv_dw): Conv2d(384, 384, kernel_size=(7, 7), stride=(1, 1), padding=(3, 3), groups=384)\n",
              "              (norm): LayerNorm((384,), eps=1e-06, elementwise_affine=True)\n",
              "              (mlp): Mlp(\n",
              "                (fc1): Linear(in_features=384, out_features=1536, bias=True)\n",
              "                (act): GELU()\n",
              "                (drop1): Dropout(p=0.0, inplace=False)\n",
              "                (norm): Identity()\n",
              "                (fc2): Linear(in_features=1536, out_features=384, bias=True)\n",
              "                (drop2): Dropout(p=0.0, inplace=False)\n",
              "              )\n",
              "              (shortcut): Identity()\n",
              "              (drop_path): Identity()\n",
              "            )\n",
              "            (8): ConvNeXtBlock(\n",
              "              (conv_dw): Conv2d(384, 384, kernel_size=(7, 7), stride=(1, 1), padding=(3, 3), groups=384)\n",
              "              (norm): LayerNorm((384,), eps=1e-06, elementwise_affine=True)\n",
              "              (mlp): Mlp(\n",
              "                (fc1): Linear(in_features=384, out_features=1536, bias=True)\n",
              "                (act): GELU()\n",
              "                (drop1): Dropout(p=0.0, inplace=False)\n",
              "                (norm): Identity()\n",
              "                (fc2): Linear(in_features=1536, out_features=384, bias=True)\n",
              "                (drop2): Dropout(p=0.0, inplace=False)\n",
              "              )\n",
              "              (shortcut): Identity()\n",
              "              (drop_path): Identity()\n",
              "            )\n",
              "          )\n",
              "        )\n",
              "        (3): ConvNeXtStage(\n",
              "          (downsample): Sequential(\n",
              "            (0): LayerNorm2d((384,), eps=1e-06, elementwise_affine=True)\n",
              "            (1): Conv2d(384, 768, kernel_size=(2, 2), stride=(2, 2))\n",
              "          )\n",
              "          (blocks): Sequential(\n",
              "            (0): ConvNeXtBlock(\n",
              "              (conv_dw): Conv2d(768, 768, kernel_size=(7, 7), stride=(1, 1), padding=(3, 3), groups=768)\n",
              "              (norm): LayerNorm((768,), eps=1e-06, elementwise_affine=True)\n",
              "              (mlp): Mlp(\n",
              "                (fc1): Linear(in_features=768, out_features=3072, bias=True)\n",
              "                (act): GELU()\n",
              "                (drop1): Dropout(p=0.0, inplace=False)\n",
              "                (norm): Identity()\n",
              "                (fc2): Linear(in_features=3072, out_features=768, bias=True)\n",
              "                (drop2): Dropout(p=0.0, inplace=False)\n",
              "              )\n",
              "              (shortcut): Identity()\n",
              "              (drop_path): Identity()\n",
              "            )\n",
              "            (1): ConvNeXtBlock(\n",
              "              (conv_dw): Conv2d(768, 768, kernel_size=(7, 7), stride=(1, 1), padding=(3, 3), groups=768)\n",
              "              (norm): LayerNorm((768,), eps=1e-06, elementwise_affine=True)\n",
              "              (mlp): Mlp(\n",
              "                (fc1): Linear(in_features=768, out_features=3072, bias=True)\n",
              "                (act): GELU()\n",
              "                (drop1): Dropout(p=0.0, inplace=False)\n",
              "                (norm): Identity()\n",
              "                (fc2): Linear(in_features=3072, out_features=768, bias=True)\n",
              "                (drop2): Dropout(p=0.0, inplace=False)\n",
              "              )\n",
              "              (shortcut): Identity()\n",
              "              (drop_path): Identity()\n",
              "            )\n",
              "            (2): ConvNeXtBlock(\n",
              "              (conv_dw): Conv2d(768, 768, kernel_size=(7, 7), stride=(1, 1), padding=(3, 3), groups=768)\n",
              "              (norm): LayerNorm((768,), eps=1e-06, elementwise_affine=True)\n",
              "              (mlp): Mlp(\n",
              "                (fc1): Linear(in_features=768, out_features=3072, bias=True)\n",
              "                (act): GELU()\n",
              "                (drop1): Dropout(p=0.0, inplace=False)\n",
              "                (norm): Identity()\n",
              "                (fc2): Linear(in_features=3072, out_features=768, bias=True)\n",
              "                (drop2): Dropout(p=0.0, inplace=False)\n",
              "              )\n",
              "              (shortcut): Identity()\n",
              "              (drop_path): Identity()\n",
              "            )\n",
              "          )\n",
              "        )\n",
              "      )\n",
              "      (norm_pre): Identity()\n",
              "      (head): NormMlpClassifierHead(\n",
              "        (global_pool): SelectAdaptivePool2d (pool_type=avg, flatten=Identity())\n",
              "        (norm): LayerNorm2d((768,), eps=1e-06, elementwise_affine=True)\n",
              "        (flatten): Flatten(start_dim=1, end_dim=-1)\n",
              "        (pre_logits): Identity()\n",
              "        (drop): Dropout(p=0.0, inplace=False)\n",
              "        (fc): Identity()\n",
              "      )\n",
              "    )\n",
              "  )\n",
              "  (1): Sequential(\n",
              "    (0): AdaptiveConcatPool2d(\n",
              "      (ap): AdaptiveAvgPool2d(output_size=1)\n",
              "      (mp): AdaptiveMaxPool2d(output_size=1)\n",
              "    )\n",
              "    (1): fastai.layers.Flatten(full=False)\n",
              "    (2): BatchNorm1d(1536, eps=1e-05, momentum=0.1, affine=True, track_running_stats=True)\n",
              "    (3): Dropout(p=0.25, inplace=False)\n",
              "    (4): Linear(in_features=1536, out_features=512, bias=False)\n",
              "    (5): ReLU(inplace=True)\n",
              "    (6): BatchNorm1d(512, eps=1e-05, momentum=0.1, affine=True, track_running_stats=True)\n",
              "    (7): Dropout(p=0.5, inplace=False)\n",
              "    (8): Linear(in_features=512, out_features=37, bias=False)\n",
              "  )\n",
              ")"
            ]
          },
          "metadata": {},
          "execution_count": 10
        }
      ],
      "source": [
        "m = learn.model\n",
        "m"
      ]
    },
    {
      "cell_type": "code",
      "execution_count": 11,
      "id": "10d7900d",
      "metadata": {
        "id": "10d7900d",
        "colab": {
          "base_uri": "https://localhost:8080/"
        },
        "outputId": "b55f46b2-6e60-463e-fc39-fd1c75fa98e7"
      },
      "outputs": [
        {
          "output_type": "execute_result",
          "data": {
            "text/plain": [
              "[Parameter containing:\n",
              " tensor([ 1.2532e+00,  1.9187e+00,  1.2199e+00,  1.0386e+00,  4.7659e-04,\n",
              "          7.6609e-01,  8.8787e-01,  1.6316e+00,  7.0595e-01,  3.2896e+00,\n",
              "          7.8552e-01, -3.4370e-04,  9.9991e-01, -2.4573e-03,  3.2968e+00,\n",
              "         -4.4797e-04,  1.9832e+00,  1.0207e+00,  4.4526e+00,  2.5660e-01,\n",
              "          2.7251e+00,  9.2574e-01,  1.2372e+00,  3.8171e-03,  1.7882e+00,\n",
              "          5.4271e-01,  4.6257e+00,  1.1802e-02, -2.1139e-04,  3.4500e+00,\n",
              "          1.3501e+00,  4.1261e+00,  2.6877e+00,  4.1200e+00,  3.4011e+00,\n",
              "          8.5083e-01,  7.3517e-01,  3.9793e+00,  1.2853e+00,  6.4163e-01,\n",
              "          2.6897e+00,  1.1171e+00,  1.1701e+00,  5.5425e-01,  2.3338e+00,\n",
              "          3.1330e-04,  9.6943e-01,  1.0537e-03,  1.1980e+00,  1.7886e+00,\n",
              "          4.0190e-01,  4.5005e-01,  9.7163e-01,  3.9892e+00,  6.5914e-01,\n",
              "          6.8889e-01,  9.8533e-01,  2.7051e+00,  1.2161e+00,  7.6310e-01,\n",
              "          3.3010e+00,  1.6193e+00,  9.5469e-01,  2.1195e+00,  6.2903e-01,\n",
              "          4.0343e+00,  8.9202e-01, -2.9872e-03,  4.0873e+00,  1.0654e+00,\n",
              "          1.3964e+00,  1.6688e+00, -1.2844e-04,  7.6671e-01,  8.8594e-01,\n",
              "          6.4232e-01,  1.3454e+00,  7.1635e-01,  5.4701e-01,  2.0916e+00,\n",
              "          1.1949e+00,  3.0744e-01,  2.9631e-01,  1.4704e+00,  4.0839e+00,\n",
              "         -3.7757e-04,  1.1465e+00,  3.8850e+00,  3.6005e+00,  4.8278e-01,\n",
              "          2.1525e-01,  1.8224e-03,  6.4796e-01,  3.0072e+00,  3.0470e+00,\n",
              "          3.8412e-03], requires_grad=True),\n",
              " Parameter containing:\n",
              " tensor([-9.8086e-02, -4.0652e-02,  4.1640e+00, -9.8746e-03,  4.0043e-03,\n",
              "         -2.6651e-02, -3.1310e-02, -8.0836e-02, -1.4090e-01, -6.1780e-02,\n",
              "          3.2269e-01, -3.3703e-01, -5.7083e-02, -4.5059e-03, -4.7585e-02,\n",
              "         -2.6712e-02, -4.0602e-02, -3.9539e-02,  8.1102e-03, -2.4052e-02,\n",
              "          9.6469e-03, -1.6304e-01, -4.0158e+00,  5.3032e-01, -5.3376e-01,\n",
              "          2.8048e+00,  3.6520e-02, -9.1605e-03, -2.8214e-03, -1.1745e-01,\n",
              "         -1.4092e-01,  1.9759e-02, -9.6052e-02, -1.3178e-01, -1.9350e-01,\n",
              "         -6.8094e-02, -3.8209e-02, -1.3039e-01,  1.5378e-01,  5.6989e-04,\n",
              "         -6.5704e-02,  5.8424e-02, -9.1396e-02, -1.1443e+00, -5.4344e-02,\n",
              "         -6.0517e-03, -1.8340e-01,  2.3125e-02,  4.0312e-02, -6.0497e-02,\n",
              "         -4.0436e-02, -5.7702e-02, -4.3684e-02, -1.2365e-02, -1.1139e-01,\n",
              "          5.4658e-03, -3.7954e-02, -1.5968e-01, -9.7485e-02, -1.8424e-01,\n",
              "         -1.1054e-01, -1.8281e-01, -3.2221e-02, -2.7763e-02,  1.4197e+00,\n",
              "         -3.3814e-02, -4.3826e-02, -2.6966e-01, -4.7486e-02, -6.3310e-04,\n",
              "          2.6683e-01,  1.8715e-01,  6.9630e-01, -3.0818e-01,  8.1673e-02,\n",
              "         -1.0851e+00,  1.5319e-02, -4.4349e-02, -8.0301e-02, -6.7345e-02,\n",
              "         -1.3054e-01, -1.7682e-02, -1.9268e-02, -3.8932e-02, -7.1210e-02,\n",
              "          1.1886e-02, -5.7581e-02, -3.7485e-02, -8.0543e-02, -7.3271e-02,\n",
              "         -1.0387e-02, -3.7723e-01, -1.1545e-02, -2.5583e-02, -6.2721e-02,\n",
              "         -4.3099e-04], requires_grad=True)]"
            ]
          },
          "metadata": {},
          "execution_count": 11
        }
      ],
      "source": [
        "l = m.get_submodule('0.model.stem.1')\n",
        "list(l.parameters())"
      ]
    },
    {
      "cell_type": "code",
      "execution_count": 12,
      "id": "008537b0",
      "metadata": {
        "id": "008537b0",
        "colab": {
          "base_uri": "https://localhost:8080/"
        },
        "outputId": "a2f0cd6e-993d-4345-ebc1-bba3cbd962f5"
      },
      "outputs": [
        {
          "output_type": "execute_result",
          "data": {
            "text/plain": [
              "[Parameter containing:\n",
              " tensor([[ 0.0227, -0.0016,  0.0404,  ...,  0.0017, -0.0451,  0.0081],\n",
              "         [-0.1438,  0.0169,  0.0259,  ...,  0.0126, -0.1045,  0.0563],\n",
              "         [-0.0654, -0.0327,  0.0059,  ..., -0.0418,  0.0659, -0.0402],\n",
              "         ...,\n",
              "         [-0.0089,  0.0698,  0.0002,  ...,  0.0041,  0.0415, -0.0193],\n",
              "         [ 0.0021,  0.0322,  0.0297,  ..., -0.0299, -0.0303,  0.0554],\n",
              "         [ 0.1210, -0.0355, -0.0044,  ..., -0.0061,  0.0238, -0.0114]],\n",
              "        requires_grad=True),\n",
              " Parameter containing:\n",
              " tensor([-0.4048, -0.7418, -0.4233, -0.1651, -0.3028, -0.1898, -0.5534, -0.6271,\n",
              "         -0.3008, -0.4254, -0.5996, -0.4107, -0.2173, -1.7934, -0.3171, -0.1163,\n",
              "         -0.4484, -0.2847, -0.4344, -0.4945, -0.4065, -1.1402, -0.6754, -1.7236,\n",
              "         -0.2955, -0.2655, -0.2189, -0.3912, -0.4148, -0.4771,  0.2365, -0.7542,\n",
              "         -0.5852, -0.1820, -1.5272, -0.3626, -2.4689, -2.3460, -0.6110, -0.4115,\n",
              "         -0.6964, -0.5765, -0.5878, -0.0319, -2.0353, -0.2858, -0.3954, -0.8402,\n",
              "         -2.2400, -1.0875, -0.2297, -0.9003, -0.7583, -0.8834, -0.3755, -0.4548,\n",
              "         -0.3834, -0.4048, -2.0231, -1.0263, -0.4106, -1.1564, -0.2224, -0.4251,\n",
              "         -0.2495, -0.4222, -0.0976, -1.4018, -0.6888, -0.4370, -0.2932, -0.4643,\n",
              "         -0.4958, -1.2534, -1.0721, -1.2964, -0.6277, -1.4159, -2.3081, -2.4539,\n",
              "         -0.4258, -0.9986, -0.4639, -0.3149, -0.2417, -0.8745, -0.2827, -1.4207,\n",
              "         -0.3257, -0.3202, -0.0602, -0.1895, -0.2497, -0.6129, -0.2976, -2.1465,\n",
              "         -0.4128, -0.3677, -1.9814, -0.3813, -0.3785, -0.2294, -0.3698, -0.3256,\n",
              "         -0.5585, -2.4192, -0.4590, -1.7747, -0.3996, -0.4092, -0.3517, -0.5333,\n",
              "         -1.6533, -1.8191,  0.6262, -0.4060,  0.5872, -2.2074, -0.2438, -2.4539,\n",
              "         -0.2284, -0.6864,  0.6988,  0.6477, -0.6445, -0.3453, -0.3276, -0.5700,\n",
              "         -0.5174, -0.2775, -0.4091, -0.3018, -0.4873, -0.4952, -0.4072, -0.4357,\n",
              "         -0.5102, -0.4128, -2.0918, -0.2826, -0.5831, -1.5835,  0.6140, -0.8503,\n",
              "         -0.4669, -2.1359, -0.3418, -0.3768, -0.3345, -0.3959, -0.3885, -0.5667,\n",
              "         -0.2224, -1.3059, -0.4600, -0.3926, -0.4666, -0.4215, -0.4755, -0.2866,\n",
              "         -1.5805, -0.1786, -0.4367, -0.3173,  1.5732, -0.4046, -0.4839, -0.2576,\n",
              "         -0.5610, -0.4264, -0.2578, -0.3176, -0.4620, -1.9552, -1.9144, -0.3962,\n",
              "          0.3987, -2.3520, -0.9689, -0.2833, -1.9001, -0.4180,  0.0159, -1.1110,\n",
              "         -0.4921, -0.3177, -1.8909, -0.3101, -0.8137, -2.3344, -0.3845, -0.3847,\n",
              "         -0.1974, -0.4444, -1.6236, -2.5485, -0.3177, -1.2714, -1.1480,  0.6150,\n",
              "         -0.3750, -0.3951, -2.0747, -0.4657, -0.3780, -0.4957, -0.3281, -1.9219,\n",
              "         -2.0018, -0.5307, -0.2555, -1.1161, -0.3519, -2.2185, -1.1394,  0.5365,\n",
              "         -0.3217, -2.0387, -0.4656,  0.1849, -0.5830, -0.3128,  0.6183, -0.2125,\n",
              "         -2.3538, -0.9699, -0.9785, -0.3668, -0.4503, -1.9562, -0.2662, -1.1755,\n",
              "         -0.4199, -0.9023, -0.3604, -0.5170, -1.1880, -0.4191, -0.4771, -1.5559,\n",
              "         -0.4010, -0.6518, -0.4818, -0.2423,  0.6909, -0.5081, -0.4303, -0.6068,\n",
              "         -0.4001, -0.3330, -0.3595, -1.6108, -0.2371, -0.2467, -0.4545,  0.1809,\n",
              "         -0.3227, -0.3919, -0.3515, -0.3754, -1.2177, -0.4000, -0.3580, -0.2882,\n",
              "         -1.7484, -0.2363, -0.1599, -0.2640, -0.9769, -1.3064, -0.4148, -0.2664,\n",
              "         -0.3931, -0.4626, -0.2175,  0.2142, -0.5733, -0.2765, -0.3659, -0.5172,\n",
              "         -0.3485, -0.3363, -0.6445,  0.6866, -0.3739, -0.2902, -2.0862, -0.4883,\n",
              "         -0.2596, -1.0497, -1.6616, -0.3399, -0.5112, -0.5660, -0.3027, -0.5048,\n",
              "         -0.2878, -0.2841, -0.1982, -0.6909, -0.2872, -2.1120, -0.8927, -0.2301,\n",
              "         -1.5009, -0.4734, -2.2293, -0.4022, -0.2927, -0.4200,  0.6645, -0.3047,\n",
              "         -0.1688, -0.3749, -0.6433, -2.3348, -0.3101, -1.2730, -0.8193, -1.0592,\n",
              "         -0.0934, -1.6387,  0.3426, -0.8484, -0.4910, -0.5001, -1.0630, -0.3534,\n",
              "         -1.1561, -0.3843, -0.3173, -0.6433, -0.9084, -0.6567, -0.6490,  0.6336,\n",
              "         -0.2663, -1.3203, -1.1624, -1.2031, -2.0577, -0.3001, -1.3596, -0.4613,\n",
              "         -0.5023, -0.4950, -0.3156, -0.3273, -0.2669, -0.4279, -0.3297, -0.3013,\n",
              "         -1.6635,  0.6434, -0.9455,  0.6096, -0.4234,  0.3916, -0.4944, -0.4286,\n",
              "         -0.2587, -0.4951, -2.1992, -0.2601, -0.3934, -0.4565, -0.5817, -0.3488,\n",
              "         -0.7372, -0.3589, -0.4895, -2.0108,  0.4557, -0.8057, -1.7748, -0.3513,\n",
              "         -0.5358, -0.2101, -0.3956, -0.4781, -1.1456, -0.3974, -2.2114, -0.2839],\n",
              "        requires_grad=True)]"
            ]
          },
          "metadata": {},
          "execution_count": 12
        }
      ],
      "source": [
        "l = m.get_submodule('0.model.stages.0.blocks.1.mlp.fc1')\n",
        "list(l.parameters())"
      ]
    },
    {
      "cell_type": "code",
      "execution_count": 12,
      "id": "ff9d5c73",
      "metadata": {
        "id": "ff9d5c73"
      },
      "outputs": [],
      "source": []
    }
  ],
  "metadata": {
    "kernelspec": {
      "display_name": "Python 3",
      "name": "python3"
    },
    "language_info": {
      "codemirror_mode": {
        "name": "ipython",
        "version": 3
      },
      "file_extension": ".py",
      "mimetype": "text/x-python",
      "name": "python",
      "nbconvert_exporter": "python",
      "pygments_lexer": "ipython3",
      "version": "3.7.11"
    },
    "toc": {
      "base_numbering": 1,
      "nav_menu": {},
      "number_sections": false,
      "sideBar": true,
      "skip_h1_title": false,
      "title_cell": "Table of Contents",
      "title_sidebar": "Contents",
      "toc_cell": false,
      "toc_position": {},
      "toc_section_display": true,
      "toc_window_display": false
    },
    "colab": {
      "provenance": [],
      "gpuType": "T4",
      "include_colab_link": true
    },
    "accelerator": "GPU"
  },
  "nbformat": 4,
  "nbformat_minor": 5
}
