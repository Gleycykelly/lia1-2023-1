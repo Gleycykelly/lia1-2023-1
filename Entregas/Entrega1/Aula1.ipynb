{
  "cells": [
    {
      "cell_type": "markdown",
      "metadata": {
        "id": "view-in-github",
        "colab_type": "text"
      },
      "source": [
        "<a href=\"https://colab.research.google.com/github/Gleycykelly/lia1-2023-1/blob/main/Aula1.ipynb\" target=\"_parent\"><img src=\"https://colab.research.google.com/assets/colab-badge.svg\" alt=\"Open In Colab\"/></a>"
      ]
    },
    {
      "cell_type": "markdown",
      "id": "079dd31d",
      "metadata": {
        "id": "079dd31d"
      },
      "source": [
        "<hr style=\"height:10px\"> \n",
        " \n",
        "<div class='container2'>\n",
        "\t<div style='padding: 0 7em 2em 12em;'>\n",
        "\t<h1>Laboratório de Inovação e Automação 1 (LIA 1)</h1>\n",
        "\t<div style=\"font-size:12pt;float:left;\"> 2023/1 | 46M34 | Sala 200 CAE</div><br><br>\n",
        "    <div style=\"font-size:12pt;float:left;\"><b>Projetos de Inteligência Artificial</b></div>\n",
        "\t</div>\n",
        "</div>\n",
        "\n",
        "\n",
        " <hr style=\"height:5px\"> \n",
        "\n",
        "    \n",
        "<h2>Introdução ao Ambiente de Projetos</h2>\n",
        "\n",
        "Notebook desenvolvido por: Gleycykelly Syssy Indymayer Carnot Amaro\n",
        "\n",
        " <hr style=\"height:2px\"> "
      ]
    },
    {
      "cell_type": "code",
      "source": [
        "from google.colab import drive\n",
        "drive.mount('/content/drive')\n"
      ],
      "metadata": {
        "colab": {
          "base_uri": "https://localhost:8080/"
        },
        "id": "kVzpu4MSmmi5",
        "outputId": "888e7ffa-8701-459c-e1e2-821dbd0859e1"
      },
      "id": "kVzpu4MSmmi5",
      "execution_count": null,
      "outputs": [
        {
          "output_type": "stream",
          "name": "stdout",
          "text": [
            "Mounted at /content/drive\n"
          ]
        }
      ]
    },
    {
      "cell_type": "code",
      "execution_count": null,
      "id": "7fdbe912",
      "metadata": {
        "colab": {
          "base_uri": "https://localhost:8080/"
        },
        "id": "7fdbe912",
        "outputId": "2248d287-3fa9-490b-c1d2-95d9c451f6ce"
      },
      "outputs": [
        {
          "output_type": "stream",
          "name": "stdout",
          "text": [
            "A versão do python usada neste projeto é 3.10.11!\n"
          ]
        }
      ],
      "source": [
        "from platform import python_version\n",
        "print(f'A versão do python usada neste projeto é {python_version()}!')"
      ]
    },
    {
      "cell_type": "code",
      "execution_count": null,
      "id": "1cc287cb",
      "metadata": {
        "colab": {
          "base_uri": "https://localhost:8080/"
        },
        "id": "1cc287cb",
        "outputId": "2d7969f7-0b75-43c4-e9f2-6e3b545cea88"
      },
      "outputs": [
        {
          "output_type": "stream",
          "name": "stdout",
          "text": [
            "Bye bye, world!\n"
          ]
        }
      ],
      "source": [
        "# Verificar se o python está funcionando\n",
        "print('Bye bye, world!')"
      ]
    },
    {
      "cell_type": "markdown",
      "id": "f806a95a",
      "metadata": {
        "id": "f806a95a"
      },
      "source": [
        "# Operadores aritméticos"
      ]
    },
    {
      "cell_type": "code",
      "execution_count": null,
      "id": "86378ec6",
      "metadata": {
        "colab": {
          "base_uri": "https://localhost:8080/"
        },
        "id": "86378ec6",
        "outputId": "f10ed273-74b5-4b0e-f5d7-fe9dff90ba55"
      },
      "outputs": [
        {
          "output_type": "execute_result",
          "data": {
            "text/plain": [
              "2"
            ]
          },
          "metadata": {},
          "execution_count": 4
        }
      ],
      "source": [
        "# Adição\n",
        "1 + 1"
      ]
    },
    {
      "cell_type": "code",
      "execution_count": null,
      "id": "a52fe36d",
      "metadata": {
        "colab": {
          "base_uri": "https://localhost:8080/"
        },
        "id": "a52fe36d",
        "outputId": "32edf71b-e695-464d-99c0-0c4edc8a10c2"
      },
      "outputs": [
        {
          "output_type": "execute_result",
          "data": {
            "text/plain": [
              "1"
            ]
          },
          "metadata": {},
          "execution_count": 5
        }
      ],
      "source": [
        "# Subtração\n",
        "2 - 1 "
      ]
    },
    {
      "cell_type": "code",
      "execution_count": null,
      "id": "294b0ddf",
      "metadata": {
        "colab": {
          "base_uri": "https://localhost:8080/"
        },
        "id": "294b0ddf",
        "outputId": "d05545f7-896e-48d5-e702-f71940b5452e"
      },
      "outputs": [
        {
          "output_type": "execute_result",
          "data": {
            "text/plain": [
              "4"
            ]
          },
          "metadata": {},
          "execution_count": 6
        }
      ],
      "source": [
        "# Multiplicação\n",
        "2 * 2"
      ]
    },
    {
      "cell_type": "code",
      "execution_count": null,
      "id": "b6fd50dd",
      "metadata": {
        "colab": {
          "base_uri": "https://localhost:8080/"
        },
        "id": "b6fd50dd",
        "outputId": "f0af7bff-5879-44d1-bb44-8a6073644064"
      },
      "outputs": [
        {
          "output_type": "execute_result",
          "data": {
            "text/plain": [
              "1.5"
            ]
          },
          "metadata": {},
          "execution_count": 7
        }
      ],
      "source": [
        "# Divisão\n",
        "3 / 2"
      ]
    },
    {
      "cell_type": "code",
      "execution_count": null,
      "id": "00ff206c",
      "metadata": {
        "colab": {
          "base_uri": "https://localhost:8080/"
        },
        "id": "00ff206c",
        "outputId": "dcb9d042-7c79-4a6b-c333-444c45bf7440"
      },
      "outputs": [
        {
          "output_type": "execute_result",
          "data": {
            "text/plain": [
              "16"
            ]
          },
          "metadata": {},
          "execution_count": 8
        }
      ],
      "source": [
        "# Potência\n",
        "4 ** 2"
      ]
    },
    {
      "cell_type": "code",
      "execution_count": null,
      "id": "c040c202",
      "metadata": {
        "colab": {
          "base_uri": "https://localhost:8080/"
        },
        "id": "c040c202",
        "outputId": "3e196080-4765-4bf4-cfac-78a1f127035f"
      },
      "outputs": [
        {
          "output_type": "execute_result",
          "data": {
            "text/plain": [
              "1"
            ]
          },
          "metadata": {},
          "execution_count": 9
        }
      ],
      "source": [
        "# Módulo (resto da divisão)\n",
        "10 % 3"
      ]
    },
    {
      "cell_type": "markdown",
      "id": "8e34433d",
      "metadata": {
        "id": "8e34433d"
      },
      "source": [
        "# Tipo de Dados (type)"
      ]
    },
    {
      "cell_type": "code",
      "execution_count": null,
      "id": "8171b88f",
      "metadata": {
        "colab": {
          "base_uri": "https://localhost:8080/"
        },
        "id": "8171b88f",
        "outputId": "e960ce0e-eea1-4b9b-e962-06cbafd4ce11"
      },
      "outputs": [
        {
          "output_type": "execute_result",
          "data": {
            "text/plain": [
              "int"
            ]
          },
          "metadata": {},
          "execution_count": 10
        }
      ],
      "source": [
        "# Qual o tipo do (?) -> Inteiro\n",
        "type(5)"
      ]
    },
    {
      "cell_type": "code",
      "execution_count": null,
      "id": "da9e9e9c",
      "metadata": {
        "colab": {
          "base_uri": "https://localhost:8080/"
        },
        "id": "da9e9e9c",
        "outputId": "21292655-40a0-445f-a77b-f4d5eb95fb75"
      },
      "outputs": [
        {
          "output_type": "execute_result",
          "data": {
            "text/plain": [
              "float"
            ]
          },
          "metadata": {},
          "execution_count": 11
        }
      ],
      "source": [
        "# Qual o tipo do (?) -> Float - Decimal\n",
        "type(5.0)"
      ]
    },
    {
      "cell_type": "code",
      "execution_count": null,
      "id": "c1d9d0a7",
      "metadata": {
        "colab": {
          "base_uri": "https://localhost:8080/"
        },
        "id": "c1d9d0a7",
        "outputId": "3e0669aa-02d4-419c-e42b-6b90b99c9b70"
      },
      "outputs": [
        {
          "output_type": "execute_result",
          "data": {
            "text/plain": [
              "str"
            ]
          },
          "metadata": {},
          "execution_count": 12
        }
      ],
      "source": [
        "# Qual o tipo do (?) -> String\n",
        "a = \"Estudando python!\"\n",
        "type(a)"
      ]
    },
    {
      "cell_type": "markdown",
      "id": "d1a72635",
      "metadata": {
        "id": "d1a72635"
      },
      "source": [
        "# Condicional if"
      ]
    },
    {
      "cell_type": "code",
      "execution_count": null,
      "id": "c69da58b",
      "metadata": {
        "colab": {
          "base_uri": "https://localhost:8080/"
        },
        "id": "c69da58b",
        "outputId": "7f0be0c9-fd83-4ff8-9a60-0f3ccee51d99"
      },
      "outputs": [
        {
          "output_type": "stream",
          "name": "stdout",
          "text": [
            "A sentença é verdadeira!\n"
          ]
        }
      ],
      "source": [
        "# Condicional if (Se)\n",
        "if 5 > 2:\n",
        "    print('A sentença é verdadeira!')"
      ]
    },
    {
      "cell_type": "code",
      "execution_count": null,
      "id": "1ebc794f",
      "metadata": {
        "colab": {
          "base_uri": "https://localhost:8080/"
        },
        "id": "1ebc794f",
        "outputId": "98fb7577-f81f-4361-bf5d-1f25dad15556"
      },
      "outputs": [
        {
          "output_type": "stream",
          "name": "stdout",
          "text": [
            "A sentença é falsa!\n"
          ]
        }
      ],
      "source": [
        "# Condicional if ...else\n",
        "if 5 < 2:\n",
        "    print('A sentença é verdadeira!')\n",
        "else: \n",
        "    print('A sentença é falsa!')"
      ]
    },
    {
      "cell_type": "code",
      "execution_count": null,
      "id": "dacf0d33",
      "metadata": {
        "colab": {
          "base_uri": "https://localhost:8080/"
        },
        "id": "dacf0d33",
        "outputId": "408acafd-4ec5-48f3-c222-26259ec6e272"
      },
      "outputs": [
        {
          "output_type": "stream",
          "name": "stdout",
          "text": [
            "Hoje vai chover! :(\n"
          ]
        }
      ],
      "source": [
        "# Condicional if...else com variável\n",
        "dia = \"Quarta-feira\"\n",
        "\n",
        "if dia == \"Sexta-feira\":\n",
        "    print(\"Hoje fará sol!\")\n",
        "else:\n",
        "    print(\"Hoje vai chover! :(\")\n"
      ]
    },
    {
      "cell_type": "markdown",
      "id": "0d555eff",
      "metadata": {
        "id": "0d555eff"
      },
      "source": [
        "# Manipulando arquivos"
      ]
    },
    {
      "cell_type": "code",
      "execution_count": null,
      "id": "ded2a769",
      "metadata": {
        "id": "ded2a769"
      },
      "outputs": [],
      "source": [
        "# Abrindo o arquivo para leitura\n",
        "a1 = open(\"/content/drive/MyDrive/lia1/arquivo1.txt\", \"r\")"
      ]
    },
    {
      "cell_type": "code",
      "execution_count": null,
      "id": "a7d2e712",
      "metadata": {
        "colab": {
          "base_uri": "https://localhost:8080/"
        },
        "id": "a7d2e712",
        "outputId": "8c032267-679b-4087-b6eb-0a73afe1835e"
      },
      "outputs": [
        {
          "output_type": "stream",
          "name": "stdout",
          "text": [
            "teste\n"
          ]
        }
      ],
      "source": [
        "# Lendo o arquivo\n",
        "print(a1.read())"
      ]
    },
    {
      "cell_type": "markdown",
      "id": "189c15bb",
      "metadata": {
        "id": "189c15bb"
      },
      "source": [
        "# Gravando arquivos (.txt)"
      ]
    },
    {
      "cell_type": "code",
      "execution_count": null,
      "id": "4a4bc2ad",
      "metadata": {
        "id": "4a4bc2ad"
      },
      "outputs": [],
      "source": [
        "# Abrindo o arquivo para gravação\n",
        "a2 = open(\"/content/drive/MyDrive/lia1/arquivo2.txt\", \"w\")"
      ]
    },
    {
      "cell_type": "code",
      "execution_count": null,
      "id": "c5727b09",
      "metadata": {
        "colab": {
          "base_uri": "https://localhost:8080/"
        },
        "id": "c5727b09",
        "outputId": "aa5d198b-86d9-48d2-dc56-49bb93a39ccc"
      },
      "outputs": [
        {
          "output_type": "execute_result",
          "data": {
            "text/plain": [
              "18"
            ]
          },
          "metadata": {},
          "execution_count": 19
        }
      ],
      "source": [
        "# Gravando no arquivo\n",
        "a2.write(\"Aprendendo python!\")"
      ]
    },
    {
      "cell_type": "code",
      "execution_count": null,
      "id": "5cd769c0",
      "metadata": {
        "id": "5cd769c0"
      },
      "outputs": [],
      "source": [
        "# Abrindo o arquivo para leitura\n",
        "a2 = open(\"/content/drive/MyDrive/lia1/arquivo2.txt\", \"r\")"
      ]
    },
    {
      "cell_type": "code",
      "execution_count": null,
      "id": "575186de",
      "metadata": {
        "colab": {
          "base_uri": "https://localhost:8080/"
        },
        "id": "575186de",
        "outputId": "014a193a-2f22-4119-864b-9128116c0af8"
      },
      "outputs": [
        {
          "output_type": "stream",
          "name": "stdout",
          "text": [
            "Aprendendo python!\n"
          ]
        }
      ],
      "source": [
        "# Imprimindo o arquivo\n",
        "print(a2.read())"
      ]
    },
    {
      "cell_type": "code",
      "execution_count": null,
      "id": "fd0676a0",
      "metadata": {
        "id": "fd0676a0"
      },
      "outputs": [],
      "source": []
    }
  ],
  "metadata": {
    "kernelspec": {
      "display_name": "Python 3 (ipykernel)",
      "language": "python",
      "name": "python3"
    },
    "language_info": {
      "codemirror_mode": {
        "name": "ipython",
        "version": 3
      },
      "file_extension": ".py",
      "mimetype": "text/x-python",
      "name": "python",
      "nbconvert_exporter": "python",
      "pygments_lexer": "ipython3",
      "version": "3.10.9"
    },
    "colab": {
      "provenance": [],
      "include_colab_link": true
    },
    "gpuClass": "standard"
  },
  "nbformat": 4,
  "nbformat_minor": 5
}
